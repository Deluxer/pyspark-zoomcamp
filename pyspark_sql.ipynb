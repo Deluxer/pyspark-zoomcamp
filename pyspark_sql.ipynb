{
 "cells": [
  {
   "cell_type": "code",
   "execution_count": 3,
   "id": "abc8e122-faae-4966-8f48-2142edcc8507",
   "metadata": {},
   "outputs": [],
   "source": [
    "import pyspark\n",
    "from pyspark.sql import SparkSession"
   ]
  },
  {
   "cell_type": "code",
   "execution_count": 4,
   "id": "c036771a-dcb3-4f11-bd43-e93f2257ce73",
   "metadata": {},
   "outputs": [
    {
     "name": "stderr",
     "output_type": "stream",
     "text": [
      "24/08/24 13:21:38 WARN Utils: Your hostname, deluxer resolves to a loopback address: 127.0.1.1; using 192.168.100.4 instead (on interface wlp4s0)\n",
      "24/08/24 13:21:38 WARN Utils: Set SPARK_LOCAL_IP if you need to bind to another address\n",
      "Setting default log level to \"WARN\".\n",
      "To adjust logging level use sc.setLogLevel(newLevel). For SparkR, use setLogLevel(newLevel).\n",
      "24/08/24 13:21:38 WARN NativeCodeLoader: Unable to load native-hadoop library for your platform... using builtin-java classes where applicable\n"
     ]
    }
   ],
   "source": [
    "spark = SparkSession.builder \\\n",
    "    .master(\"local[*]\") \\\n",
    "    .appName('test') \\\n",
    "    .getOrCreate()"
   ]
  },
  {
   "cell_type": "code",
   "execution_count": 5,
   "id": "ec1d341f-1ae9-44bb-877e-f03207f52da7",
   "metadata": {},
   "outputs": [],
   "source": [
    "df_green = spark.read.parquet('data/pq/green/*/*')"
   ]
  },
  {
   "cell_type": "code",
   "execution_count": 6,
   "id": "c3a2d560-995d-4867-b0bb-87c5c4b4cfa7",
   "metadata": {},
   "outputs": [],
   "source": [
    "df_green = df_green \\\n",
    "    .withColumnRenamed('lpep_pickup_datetime', 'pickup_datetime') \\\n",
    "    .withColumnRenamed('lpep_dropoff_datetime', 'dropoff_datetime')"
   ]
  },
  {
   "cell_type": "code",
   "execution_count": 7,
   "id": "9869f0d1-0bc3-4fc8-a304-2839a0ae308a",
   "metadata": {},
   "outputs": [],
   "source": [
    "df_yellow = spark.read.parquet('data/pq/yellow/*/*')"
   ]
  },
  {
   "cell_type": "code",
   "execution_count": 8,
   "id": "80926606-c5d4-49f7-bf6a-21cfafccc443",
   "metadata": {},
   "outputs": [],
   "source": [
    "df_yellow = df_yellow \\\n",
    "    .withColumnRenamed('tpep_pickup_datetime', 'pickup_datetime') \\\n",
    "    .withColumnRenamed('tpep_dropoff_datetime', 'dropoff_datetime')"
   ]
  },
  {
   "cell_type": "code",
   "execution_count": 9,
   "id": "660dc2bd-9ec3-496e-98c6-992ce6f38407",
   "metadata": {},
   "outputs": [],
   "source": [
    "common_columns = []\n",
    "yellow_columns = set(df_yellow.columns)\n",
    "\n",
    "for col in df_green.columns:\n",
    "    if col in yellow_columns:\n",
    "        common_columns.append(col)"
   ]
  },
  {
   "cell_type": "code",
   "execution_count": 10,
   "id": "3e2dda9a-abbd-4f74-9574-4a00065120d4",
   "metadata": {},
   "outputs": [
    {
     "data": {
      "text/plain": [
       "['VendorID',\n",
       " 'pickup_datetime',\n",
       " 'dropoff_datetime',\n",
       " 'store_and_fwd_flag',\n",
       " 'RatecodeID',\n",
       " 'PULocationID',\n",
       " 'DOLocationID',\n",
       " 'passenger_count',\n",
       " 'trip_distance',\n",
       " 'fare_amount',\n",
       " 'extra',\n",
       " 'mta_tax',\n",
       " 'tip_amount',\n",
       " 'tolls_amount',\n",
       " 'improvement_surcharge',\n",
       " 'total_amount',\n",
       " 'payment_type',\n",
       " 'congestion_surcharge']"
      ]
     },
     "execution_count": 10,
     "metadata": {},
     "output_type": "execute_result"
    }
   ],
   "source": [
    "common_columns"
   ]
  },
  {
   "cell_type": "code",
   "execution_count": 11,
   "id": "95e7350b-49ca-425f-998f-d0cdeb8ec5ac",
   "metadata": {},
   "outputs": [],
   "source": [
    "from pyspark.sql import functions as F"
   ]
  },
  {
   "cell_type": "code",
   "execution_count": 12,
   "id": "18c35291-f78d-4a85-b7b4-0502a95fed56",
   "metadata": {},
   "outputs": [],
   "source": [
    "df_green_sel = df_green \\\n",
    "    .select(common_columns) \\\n",
    "    .withColumn('service_type', F.lit('green'))"
   ]
  },
  {
   "cell_type": "code",
   "execution_count": 13,
   "id": "996e36dc-31a2-441b-86b0-30cf54218437",
   "metadata": {},
   "outputs": [],
   "source": [
    "df_yellow_sel = df_yellow \\\n",
    "    .select(common_columns) \\\n",
    "    .withColumn('service_type', F.lit('yellow'))"
   ]
  },
  {
   "cell_type": "code",
   "execution_count": 14,
   "id": "7295dd7c-5aa0-46c6-8a2a-29c7ef019081",
   "metadata": {},
   "outputs": [],
   "source": [
    "df_trips_data = df_green_sel.unionAll(df_yellow_sel)"
   ]
  },
  {
   "cell_type": "code",
   "execution_count": 15,
   "id": "dc7c4735-90ff-4217-a3a0-e7d0b4ec81b0",
   "metadata": {},
   "outputs": [
    {
     "name": "stderr",
     "output_type": "stream",
     "text": [
      "[Stage 2:==================================>                     (23 + 14) / 37]\r"
     ]
    },
    {
     "name": "stdout",
     "output_type": "stream",
     "text": [
      "+------------+--------+\n",
      "|service_type|   count|\n",
      "+------------+--------+\n",
      "|       green| 2304517|\n",
      "|      yellow|39649199|\n",
      "+------------+--------+\n",
      "\n"
     ]
    },
    {
     "name": "stderr",
     "output_type": "stream",
     "text": [
      "                                                                                \r"
     ]
    }
   ],
   "source": [
    "df_trips_data.groupBy('service_type').count().show()"
   ]
  },
  {
   "cell_type": "code",
   "execution_count": 16,
   "id": "d343d828-2d4b-417f-b00c-eed961c7bb6b",
   "metadata": {},
   "outputs": [
    {
     "name": "stderr",
     "output_type": "stream",
     "text": [
      "/gera/spark/python/pyspark/sql/dataframe.py:330: FutureWarning: Deprecated in 2.0, use createOrReplaceTempView instead.\n",
      "  warnings.warn(\"Deprecated in 2.0, use createOrReplaceTempView instead.\", FutureWarning)\n"
     ]
    }
   ],
   "source": [
    "df_trips_data.registerTempTable('trips_data')"
   ]
  },
  {
   "cell_type": "code",
   "execution_count": 17,
   "id": "69da8cc8-8cdb-47b8-a51d-c7736abd38c3",
   "metadata": {},
   "outputs": [
    {
     "name": "stdout",
     "output_type": "stream",
     "text": [
      "+--------+-------------------+-------------------+------------------+----------+------------+------------+---------------+-------------+-----------+-----+-------+----------+------------+---------------------+------------+------------+--------------------+------------+\n",
      "|VendorID|    pickup_datetime|   dropoff_datetime|store_and_fwd_flag|RatecodeID|PULocationID|DOLocationID|passenger_count|trip_distance|fare_amount|extra|mta_tax|tip_amount|tolls_amount|improvement_surcharge|total_amount|payment_type|congestion_surcharge|service_type|\n",
      "+--------+-------------------+-------------------+------------------+----------+------------+------------+---------------+-------------+-----------+-----+-------+----------+------------+---------------------+------------+------------+--------------------+------------+\n",
      "|       2|2020-01-16 23:31:44|2020-01-16 23:46:21|                 N|         1|          65|          56|              1|          8.6|       24.5|  0.5|    0.5|       0.0|         0.0|                  0.3|        25.8|           2|                 0.0|       green|\n",
      "|       2|2020-01-14 15:01:42|2020-01-14 15:28:14|                 N|         1|         129|         141|              5|         5.16|       20.5|  0.0|    0.5|       0.0|         0.0|                  0.3|       24.05|           2|                2.75|       green|\n",
      "|    null|2020-01-24 05:55:00|2020-01-24 06:26:00|              null|      null|         242|         261|           null|        16.27|       53.2| 2.75|    0.5|       0.0|        6.12|                  0.3|       62.87|        null|                null|       green|\n",
      "|       2|2020-01-31 08:19:03|2020-01-31 08:24:35|                 N|         1|         166|         238|              1|         1.42|        6.5|  0.0|    0.5|      1.46|         0.0|                  0.3|        8.76|           1|                 0.0|       green|\n",
      "|    null|2020-01-12 18:54:00|2020-01-12 19:11:00|              null|      null|          41|         235|           null|         4.62|      14.24|  0.0|    0.0|       0.0|         0.0|                  0.3|       14.54|        null|                null|       green|\n",
      "|       2|2020-01-11 17:13:41|2020-01-11 17:33:40|                 N|         1|          66|          49|              6|         2.67|       14.5|  0.0|    0.5|      3.06|         0.0|                  0.3|       18.36|           1|                 0.0|       green|\n",
      "|       2|2020-01-29 19:23:03|2020-01-29 19:29:47|                 N|         1|         260|         226|              2|         0.64|        6.0|  1.0|    0.5|       1.0|         0.0|                  0.3|         8.8|           1|                 0.0|       green|\n",
      "|       2|2020-01-26 11:45:13|2020-01-26 11:47:10|                 N|         1|         116|         116|              1|         0.43|        3.5|  0.0|    0.5|       0.0|         0.0|                  0.3|         4.3|           2|                 0.0|       green|\n",
      "|       2|2020-01-03 08:58:57|2020-01-03 09:07:19|                 N|         1|          74|          75|              1|         1.38|        7.0|  0.0|    0.5|       0.0|         0.0|                  0.3|         7.8|           2|                 0.0|       green|\n",
      "|       2|2020-01-27 21:56:19|2020-01-27 22:01:04|                 N|         1|          41|          74|              1|          1.0|        5.5|  0.5|    0.5|      1.02|         0.0|                  0.3|        7.82|           1|                 0.0|       green|\n",
      "+--------+-------------------+-------------------+------------------+----------+------------+------------+---------------+-------------+-----------+-----+-------+----------+------------+---------------------+------------+------------+--------------------+------------+\n",
      "\n"
     ]
    }
   ],
   "source": [
    "spark.sql(\"\"\"\n",
    "SELECT * FROM trips_data LIMIT 10\n",
    "\"\"\").show()"
   ]
  },
  {
   "cell_type": "code",
   "execution_count": 18,
   "id": "3da27b0a-c252-4e1f-83d3-d675c08a1158",
   "metadata": {},
   "outputs": [
    {
     "name": "stdout",
     "output_type": "stream",
     "text": [
      "+------------+--------+\n",
      "|service_type|count(1)|\n",
      "+------------+--------+\n",
      "|       green| 2304517|\n",
      "|      yellow|39649199|\n",
      "+------------+--------+\n",
      "\n"
     ]
    },
    {
     "name": "stderr",
     "output_type": "stream",
     "text": [
      "                                                                                \r"
     ]
    }
   ],
   "source": [
    "spark.sql(\"\"\"\n",
    "SELECT\n",
    "    service_type,\n",
    "    count(1)\n",
    "FROM\n",
    "    trips_data\n",
    "GROUP BY\n",
    "    service_type\n",
    "\"\"\").show()"
   ]
  },
  {
   "cell_type": "code",
   "execution_count": 19,
   "id": "168d0de3-8fcf-4402-9830-b5ba2612102b",
   "metadata": {},
   "outputs": [],
   "source": [
    "df_result = spark.sql(\"\"\"\n",
    "SELECT \n",
    "    -- Reveneue grouping \n",
    "    PULocationID AS revenue_zone,\n",
    "    date_trunc('month', pickup_datetime) AS revenue_month, \n",
    "    service_type, \n",
    "\n",
    "    -- Revenue calculation \n",
    "    SUM(fare_amount) AS revenue_monthly_fare,\n",
    "    SUM(extra) AS revenue_monthly_extra,\n",
    "    SUM(mta_tax) AS revenue_monthly_mta_tax,\n",
    "    SUM(tip_amount) AS revenue_monthly_tip_amount,\n",
    "    SUM(tolls_amount) AS revenue_monthly_tolls_amount,\n",
    "    SUM(improvement_surcharge) AS revenue_monthly_improvement_surcharge,\n",
    "    SUM(total_amount) AS revenue_monthly_total_amount,\n",
    "    SUM(congestion_surcharge) AS revenue_monthly_congestion_surcharge,\n",
    "\n",
    "    -- Additional calculations\n",
    "    AVG(passenger_count) AS avg_montly_passenger_count,\n",
    "    AVG(trip_distance) AS avg_montly_trip_distance\n",
    "FROM\n",
    "    trips_data\n",
    "GROUP BY\n",
    "    1, 2, 3\n",
    "\"\"\")"
   ]
  },
  {
   "cell_type": "code",
   "execution_count": 20,
   "id": "a7a4fd31-588e-423b-a768-69fe3b5a5a3d",
   "metadata": {},
   "outputs": [
    {
     "name": "stderr",
     "output_type": "stream",
     "text": [
      "[Stage 9:=======================================================> (36 + 1) / 37]\r"
     ]
    },
    {
     "name": "stdout",
     "output_type": "stream",
     "text": [
      "+------------+-------------------+------------+--------------------+---------------------+-----------------------+--------------------------+----------------------------+-------------------------------------+----------------------------+------------------------------------+--------------------------+------------------------+\n",
      "|revenue_zone|      revenue_month|service_type|revenue_monthly_fare|revenue_monthly_extra|revenue_monthly_mta_tax|revenue_monthly_tip_amount|revenue_monthly_tolls_amount|revenue_monthly_improvement_surcharge|revenue_monthly_total_amount|revenue_monthly_congestion_surcharge|avg_montly_passenger_count|avg_montly_trip_distance|\n",
      "+------------+-------------------+------------+--------------------+---------------------+-----------------------+--------------------------+----------------------------+-------------------------------------+----------------------------+------------------------------------+--------------------------+------------------------+\n",
      "|         250|2020-01-01 00:00:00|       green|  19288.010000000028|              1266.75|                  171.5|                     47.57|           978.4800000000005|                    226.2000000000005|           21984.35999999995|                                 0.0|         1.355072463768116|       5.275630153121317|\n",
      "|          12|2020-01-01 00:00:00|       green|              161.01|                  5.5|                    1.0|                       0.0|                       12.24|                                  1.2|                      180.95|                                null|                      null|      0.7150000000000007|\n",
      "|         148|2020-01-01 00:00:00|       green|  1506.7899999999997|                 83.5|                    3.5|                       0.0|          48.959999999999994|                   14.400000000000004|          1657.1500000000003|                                 0.0|                       1.0|       7.221875000000001|\n",
      "|         165|2020-01-01 00:00:00|       green|   24802.12999999999|               1549.0|                  189.5|                    101.15|           495.9500000000002|                   268.80000000000166|          27427.279999999977|                                11.0|        1.1891891891891893|       4.462666025024062|\n",
      "|          88|2020-01-01 00:00:00|       green|   4146.879999999999|               223.75|                   16.0|                       0.0|          273.09000000000003|                    30.30000000000003|                     4690.02|                                 0.0|                       1.0|       11.43910891089109|\n",
      "|          64|2020-01-01 00:00:00|       green|             4218.47|               273.25|                   20.0|                      3.26|                      128.52|                    41.70000000000006|           4687.150000000001|                                 0.0|        1.4583333333333333|        6.67993288590604|\n",
      "|          48|2020-01-01 00:00:00|       green|              3266.3|                220.0|                   19.0|                       0.0|                       128.0|                    32.70000000000003|                      3666.0|                                 0.0|                       1.0|       7.997614678899081|\n",
      "|         113|2020-01-01 00:00:00|       green|  1049.9099999999999|                 78.0|                    3.0|                       0.0|                       36.72|                                 10.8|                     1178.43|                                 0.0|                       2.0|      7.1308333333333325|\n",
      "|          39|2020-01-01 00:00:00|       green|   60305.35000000015|               3876.0|                  491.0|                     29.63|          1069.9200000000003|                    561.0000000000098|           66334.85000000024|                                 0.0|        1.2745098039215685|       6.203130280124498|\n",
      "|         203|2020-01-01 00:00:00|       green|  14776.810000000009|                686.0|                   78.0|                      3.06|          372.60000000000014|                   113.99999999999957|          16030.469999999996|                                 0.0|        1.3255813953488371|      10.036540284360187|\n",
      "|         160|2020-01-01 00:00:00|       green|   7639.549999999997|                521.0|                   69.5|                      48.4|          227.19000000000005|                    92.69999999999972|                     8610.84|                                8.25|        1.2783505154639174|      3.9445266272189348|\n",
      "|         121|2020-01-01 00:00:00|       green|  18831.290000000015|               1216.5|                  128.0|        196.23999999999992|          230.40000000000003|                    227.7000000000005|           20848.47999999997|                                2.75|        1.1111111111111112|                   4.545|\n",
      "|         257|2020-01-01 00:00:00|       green|  7016.6500000000015|                526.0|                   76.0|        173.30999999999997|          225.72000000000006|                     84.8999999999998|           8166.130000000003|                                16.5|        1.2247191011235956|       4.738298507462685|\n",
      "|         157|2020-01-01 00:00:00|       green|   9307.449999999997|                544.0|                  101.0|        269.89000000000004|          200.44000000000005|                   109.79999999999959|          10590.230000000014|                               57.75|        1.2780748663101604|      4.7991133004926105|\n",
      "|         116|2020-01-01 00:00:00|       green|   78706.70999999993|              3319.25|                 2632.5|                   5847.95|          1467.9299999999998|                   1756.4999999999004|            96138.2900000034|                              2793.0|         1.212485896953742|       3.068908940397351|\n",
      "|         248|2020-01-01 00:00:00|       green|  11915.020000000004|               813.25|                  113.0|                    105.84|           541.3600000000004|                   143.39999999999935|          13643.219999999987|                                 5.5|        1.1884057971014492|       4.678931698774082|\n",
      "|          82|2020-01-01 00:00:00|       green|  204217.54999999967|              9166.25|                 8230.5|        12530.030000000004|          1826.8899999999958|                    5244.000000000813|            242067.419999988|                              876.75|         1.427270548765876|      2.4994312742834612|\n",
      "|         264|2008-12-01 00:00:00|       green|                 0.0|                  0.0|                    0.0|                       0.0|                         0.0|                                  0.0|                         0.0|                                 0.0|                       1.0|                     0.0|\n",
      "|         201|2020-01-01 00:00:00|       green|   8105.090000000001|               293.25|                   28.0|                       0.0|           601.2900000000006|                   54.599999999999994|                     9082.23|                                 0.0|        1.4615384615384615|      12.642173913043475|\n",
      "|         262|2020-01-01 00:00:00|       green|  1692.2100000000005|               104.75|                   11.5|                     32.34|                      122.66|                   18.000000000000014|          1981.4599999999996|                                 0.0|        1.4285714285714286|        7.54483333333333|\n",
      "+------------+-------------------+------------+--------------------+---------------------+-----------------------+--------------------------+----------------------------+-------------------------------------+----------------------------+------------------------------------+--------------------------+------------------------+\n",
      "only showing top 20 rows\n",
      "\n"
     ]
    },
    {
     "name": "stderr",
     "output_type": "stream",
     "text": [
      "                                                                                \r"
     ]
    }
   ],
   "source": [
    "df_result.show()"
   ]
  },
  {
   "cell_type": "code",
   "execution_count": 1,
   "id": "e67f612d-b8b8-43a9-8f75-9f1d7f4f2ebc",
   "metadata": {},
   "outputs": [],
   "source": [
    "#df_result.coalesce(1).write.parquet('data/report/revenue')"
   ]
  },
  {
   "cell_type": "code",
   "execution_count": 21,
   "id": "28d3c835-d95a-4021-973f-b77f4ba29177",
   "metadata": {},
   "outputs": [
    {
     "name": "stderr",
     "output_type": "stream",
     "text": [
      "                                                                                \r"
     ]
    }
   ],
   "source": [
    "df_result.coalesce(1).write.parquet('data/report/revenue', mode='overwrite')"
   ]
  }
 ],
 "metadata": {
  "kernelspec": {
   "display_name": "Python 3 (ipykernel)",
   "language": "python",
   "name": "python3"
  },
  "language_info": {
   "codemirror_mode": {
    "name": "ipython",
    "version": 3
   },
   "file_extension": ".py",
   "mimetype": "text/x-python",
   "name": "python",
   "nbconvert_exporter": "python",
   "pygments_lexer": "ipython3",
   "version": "3.11.5"
  }
 },
 "nbformat": 4,
 "nbformat_minor": 5
}
